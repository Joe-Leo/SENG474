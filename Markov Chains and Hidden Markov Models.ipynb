{
 "cells": [
  {
   "cell_type": "markdown",
   "metadata": {},
   "source": [
    "# Markov Chains and Hidden Markov Models  \n",
    "\n",
    "### George Tzanetakis, University of Victoria \n",
    "\n",
    "In this notebook we will explore hidden markov models. We start with random variables and a simple independent, identically distributed model for weather. Then we look into how to form a Markov Chain to transition between states and finally we sample a Hidden Markov Model to show how the samples are generated based on the Markov Chain of the hidden states. The results are visualized as strips of colored rectangles. Experiment with the transition probabilities and the emission probabilities to gain a better understanding of how Hidden Markov Models work in terms of generating data. \n"
   ]
  },
  {
   "cell_type": "code",
   "execution_count": 2,
   "metadata": {
    "collapsed": true
   },
   "outputs": [],
   "source": [
    "%matplotlib inline \n",
    "import matplotlib.pyplot as plt\n",
    "from scipy import stats\n",
    "import numpy as np\n",
    "from hmmlearn import hmm\n",
    "\n"
   ]
  },
  {
   "cell_type": "code",
   "execution_count": 3,
   "metadata": {
    "collapsed": true
   },
   "outputs": [],
   "source": [
    "class Random_Variable: \n",
    "    \n",
    "    def __init__(self, name, values, probability_distribution): \n",
    "        self.name = name \n",
    "        self.values = values \n",
    "        self.probability_distribution = probability_distribution \n",
    "        if all(type(item) is np.int64 for item in values): \n",
    "            self.type = 'numeric'\n",
    "            self.rv = stats.rv_discrete(name = name, values = (values, probability_distribution))\n",
    "        elif all(type(item) is str for item in values): \n",
    "            self.type = 'symbolic'\n",
    "            self.rv = stats.rv_discrete(name = name, values = (np.arange(len(values)), probability_distribution))\n",
    "            self.symbolic_values = values \n",
    "        else: \n",
    "            self.type = 'undefined'\n",
    "            \n",
    "    def sample(self,size): \n",
    "        if (self.type =='numeric'): \n",
    "            return self.rv.rvs(size=size)\n",
    "        elif (self.type == 'symbolic'): \n",
    "            numeric_samples = self.rv.rvs(size=size)\n",
    "            mapped_samples = [self.values[x] for x in numeric_samples]\n",
    "            return mapped_samples \n",
    "        \n",
    "    def probs(self): \n",
    "        return self.probability_distribution\n",
    "    \n",
    "    def vals(self): \n",
    "        print(self.type)\n",
    "        return self.values \n",
    "            \n",
    "        "
   ]
  },
  {
   "cell_type": "markdown",
   "metadata": {},
   "source": [
    "Let's first create some random samples of a symbolic random variable corresponding to the weather with two values Sunny (S) and cloudy (C) and generate random weather for 365 days. The assumption in this model is that the weather of each day is indepedent of the previous days and drawn from the same probability distribution. "
   ]
  },
  {
   "cell_type": "code",
   "execution_count": 4,
   "metadata": {
    "collapsed": true
   },
   "outputs": [],
   "source": [
    "values = ['S', 'C']\n",
    "probabilities = [0.5, 0.5]\n",
    "weather = Random_Variable('weather', values, probabilities)\n",
    "samples = weather.sample(365)"
   ]
  },
  {
   "cell_type": "code",
   "execution_count": 5,
   "metadata": {},
   "outputs": [
    {
     "data": {
      "image/png": "[encoded data removed]",
      "text/plain": [
       "<matplotlib.figure.Figure at 0x10c1c3cc0>"
      ]
     },
     "metadata": {},
     "output_type": "display_data"
    }
   ],
   "source": [
    "state2color = {} \n",
    "state2color['S'] = 'blue'\n",
    "state2color['C'] = 'grey'\n",
    "\n",
    "def plot_weather_samples(samples, state2color): \n",
    "    colors = [state2color[x] for x in samples]\n",
    "    x = np.arange(0, len(colors))\n",
    "    y = np.ones(len(colors))\n",
    "    plt.figure(figsize=(10,1))\n",
    "    plt.bar(x, y, color=colors, width=1)\n",
    "    \n",
    "plot_weather_samples(samples, state2color)\n"
   ]
  },
  {
   "cell_type": "markdown",
   "metadata": {},
   "source": [
    "Now instead of independently sampling the weather random variable lets form a markov chain. "
   ]
  },
  {
   "cell_type": "code",
   "execution_count": 6,
   "metadata": {},
   "outputs": [
    {
     "data": {
      "image/png": "[encoded data removed]",
      "text/plain": [
       "<matplotlib.figure.Figure at 0x10e8ecd68>"
      ]
     },
     "metadata": {},
     "output_type": "display_data"
    },
    {
     "data": {
      "image/png": "[encoded data removed]",
      "text/plain": [
       "<matplotlib.figure.Figure at 0x10ef8ebe0>"
      ]
     },
     "metadata": {},
     "output_type": "display_data"
    },
    {
     "data": {
      "image/png": "[encoded data removed]",
      "text/plain": [
       "<matplotlib.figure.Figure at 0x10e9d0940>"
      ]
     },
     "metadata": {},
     "output_type": "display_data"
    },
    {
     "data": {
      "image/png": "[encoded data removed]",
      "text/plain": [
       "<matplotlib.figure.Figure at 0x10f6526a0>"
      ]
     },
     "metadata": {},
     "output_type": "display_data"
    }
   ],
   "source": [
    "def markov_chain(transmat, state, state_names, samples): \n",
    "    (rows, cols) = transmat.shape \n",
    "    rvs = [] \n",
    "    values = list(np.arange(0,rows))\n",
    "    \n",
    "    # create random variables for each row of transition matrix \n",
    "    for r in range(rows): \n",
    "        rv = Random_Variable(\"row\" + str(r), values, transmat[r])\n",
    "        rvs.append(rv)\n",
    "    \n",
    "    # start from initial state and then sample the appropriate \n",
    "    # random variable based on the state following the transitions \n",
    "    states = [] \n",
    "    for n in range(samples): \n",
    "        state = rvs[state].sample(1)[0]    \n",
    "        states.append(state_names[state])\n",
    "    return states\n",
    "\n",
    "\n",
    "# transition matrices for the Markov Chain \n",
    "transmat1 = np.array([[0.7, 0.3], \n",
    "                    [0.2, 0.8]])\n",
    "\n",
    "transmat2 = np.array([[0.9, 0.1], \n",
    "                    [0.1, 0.9]])\n",
    "\n",
    "transmat3 = np.array([[0.5, 0.5], \n",
    "                     [0.5, 0.5]])\n",
    "\n",
    "\n",
    "\n",
    "# plot the iid model too\n",
    "\n",
    "state2color = {} \n",
    "state2color['S'] = 'yellow'\n",
    "state2color['C'] = 'grey'\n",
    "samples = weather.sample(365)\n",
    "\n",
    "plot_weather_samples(samples, state2color)\n",
    "\n",
    "samples1 = markov_chain(transmat1,0,['S','C'], 365)\n",
    "plot_weather_samples(samples1, state2color)\n",
    "\n",
    "samples2 = markov_chain(transmat2,0,['S','C'], 365)\n",
    "plot_weather_samples(samples2, state2color)\n",
    "\n",
    "samples3 = markov_chain(transmat3,0,['S','C'], 365)\n",
    "plot_weather_samples(samples3, state2color)\n",
    "\n",
    "\n"
   ]
  },
  {
   "cell_type": "markdown",
   "metadata": {},
   "source": [
    "Lets now look at how a Hidden Markov Model would work by having a Markov Chain to generate \n",
    "a sequence of states and for each state having a different emission probability. When sunny we will output red or yellow with higher probabilities and when cloudy black or blue. First we will write the code directly and then we will use the hmmlearn package. \n"
   ]
  },
  {
   "cell_type": "code",
   "execution_count": 7,
   "metadata": {},
   "outputs": [
    {
     "data": {
      "image/png": "[encoded data removed]",
      "text/plain": [
       "<matplotlib.figure.Figure at 0x10e891ba8>"
      ]
     },
     "metadata": {},
     "output_type": "display_data"
    },
    {
     "data": {
      "image/png": "[encoded data removed]",
      "text/plain": [
       "<matplotlib.figure.Figure at 0x10f9da080>"
      ]
     },
     "metadata": {},
     "output_type": "display_data"
    }
   ],
   "source": [
    "state2color = {} \n",
    "state2color['S'] = 'yellow'\n",
    "state2color['C'] = 'grey'\n",
    "\n",
    "samples = weather.sample(365)\n",
    "states = markov_chain(transmat2,0,['S','C'], 365)\n",
    "plot_weather_samples(states, state2color)\n",
    "\n",
    "sunny_colors = Random_Variable('sunny_colors', ['y', 'r', 'b', 'g'], \n",
    "                              [0.4, 0.4, 0.1, 0.1])\n",
    "cloudy_colors = Random_Variable('cloudy_colors', ['y', 'r', 'b', 'g'], \n",
    "                               [0.1, 0.1, 0.6, 0.2])\n",
    "\n",
    "def emit_sample(state, sunny_colors, cloudy_colors): \n",
    "    if (state == 'S'): \n",
    "        sample = sunny_colors.sample(1)[0]\n",
    "    else: \n",
    "        sample = cloudy_colors.sample(1)[0]\n",
    "    return sample \n",
    "\n",
    "samples = [emit_sample(s, sunny_colors, cloudy_colors) for s in states]\n",
    "state2color = {} \n",
    "state2color['y'] = 'yellow'\n",
    "state2color['r'] = 'red'\n",
    "state2color['b'] = 'blue'\n",
    "state2color['g'] = 'grey'\n",
    "plot_weather_samples(samples, state2color)\n",
    "\n",
    "\n",
    "\n"
   ]
  },
  {
   "cell_type": "code",
   "execution_count": 8,
   "metadata": {},
   "outputs": [
    {
     "data": {
      "image/png": "[encoded data removed]",
      "text/plain": [
       "<matplotlib.figure.Figure at 0x1100f2748>"
      ]
     },
     "metadata": {},
     "output_type": "display_data"
    },
    {
     "data": {
      "image/png": "[encoded data removed]",
      "text/plain": [
       "<matplotlib.figure.Figure at 0x10fa25978>"
      ]
     },
     "metadata": {},
     "output_type": "display_data"
    }
   ],
   "source": [
    "transmat = np.array([[0.9, 0.1], \n",
    "                    [0.1, 0.9]])\n",
    "\n",
    "start_prob = np.array([1.0, 0.0, 0.0])\n",
    "\n",
    "# yellow and red have high probs for sunny \n",
    "# blue and grey have high probs for cloudy \n",
    "emission_probs = np.array([[0.4, 0.4, 0.1, 0.1], \n",
    "                           [0.1, 0.1, 0.6, 0.2]])\n",
    "\n",
    "model = hmm.MultinomialHMM(n_components=2)\n",
    "model.startprob_ = start_prob \n",
    "model.transmat_ = transmat \n",
    "model.emissionprob_ = emission_probs\n",
    "\n",
    "# sample the model - X is the observed values \n",
    "# and Z is the \"hidden\" states \n",
    "X, Z = model.sample(365)\n",
    "\n",
    "state2color = {} \n",
    "state2color[0] = 'yellow'\n",
    "state2color[1] = 'grey'\n",
    "plot_weather_samples(Z, state2color)\n",
    "\n",
    "samples = [item for sublist in X for item in sublist]\n",
    "\n",
    "state2color = {} \n",
    "state2color[0] = 'yellow'\n",
    "state2color[1] = 'red'\n",
    "state2color[2] = 'blue'\n",
    "state2color[3] = 'grey'\n",
    "plot_weather_samples(samples, state2color)\n",
    "\n"
   ]
  },
  {
   "cell_type": "code",
   "execution_count": null,
   "metadata": {
    "collapsed": true
   },
   "outputs": [],
   "source": []
  },
  {
   "cell_type": "code",
   "execution_count": null,
   "metadata": {
    "collapsed": true
   },
   "outputs": [],
   "source": []
  }
 ],
 "metadata": {
  "kernelspec": {
   "display_name": "Python 3",
   "language": "python",
   "name": "python3"
  },
  "language_info": {
   "codemirror_mode": {
    "name": "ipython",
    "version": 3
   },
   "file_extension": ".py",
   "mimetype": "text/x-python",
   "name": "python",
   "nbconvert_exporter": "python",
   "pygments_lexer": "ipython3",
   "version": "3.6.1"
  }
 },
 "nbformat": 4,
 "nbformat_minor": 2
}
